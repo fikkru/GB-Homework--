{
  "nbformat": 4,
  "nbformat_minor": 0,
  "metadata": {
    "colab": {
      "provenance": [],
      "authorship_tag": "ABX9TyPeJilzyg3eJAuiwyupm2Qq",
      "include_colab_link": true
    },
    "kernelspec": {
      "name": "python3",
      "display_name": "Python 3"
    },
    "language_info": {
      "name": "python"
    }
  },
  "cells": [
    {
      "cell_type": "markdown",
      "metadata": {
        "id": "view-in-github",
        "colab_type": "text"
      },
      "source": [
        "<a href=\"https://colab.research.google.com/github/fikkru/GB-Homework--/blob/main/%D0%9F%D0%B5%D1%80%D0%B2%D0%BE%D0%B5_%D0%B7%D0%B0%D0%B4%D0%B0%D0%BD%D0%B8%D0%B5_%D0%B4%D0%BB%D1%8F_%D0%9D%D0%B5%D1%82%D0%BE%D0%BB%D0%BE%D0%B3%D0%B8%D0%B8.ipynb\" target=\"_parent\"><img src=\"https://colab.research.google.com/assets/colab-badge.svg\" alt=\"Open In Colab\"/></a>"
      ]
    },
    {
      "cell_type": "code",
      "execution_count": 4,
      "metadata": {
        "colab": {
          "base_uri": "https://localhost:8080/"
        },
        "id": "8MkLP3H2711t",
        "outputId": "adb45c13-f8b6-4ecd-da34-3b28d1bb0218"
      },
      "outputs": [
        {
          "output_type": "stream",
          "name": "stdout",
          "text": [
            "Введите номер билета:123123123\n",
            "Ошибка! Номер должен содержать 6 цифр\n"
          ]
        }
      ],
      "source": [
        "ticket_number = input(\"Введите номер билета:\")\n",
        "\n",
        "ticket_str = str(ticket_number)\n",
        "\n",
        "if len(ticket_str) != 6:\n",
        "    print(\"Ошибка! Номер должен содержать 6 цифр\")\n",
        "else:\n",
        "    digit1 = int(ticket_str[0])\n",
        "    digit2 = int(ticket_str[1])\n",
        "    digit3 = int(ticket_str[2])\n",
        "    digit4 = int(ticket_str[3])\n",
        "    digit5 = int(ticket_str[4])\n",
        "    digit6 = int(ticket_str[5])\n",
        "\n",
        "    sum_left = digit1 + digit2 + digit3\n",
        "\n",
        "    sum_right = digit4 + digit5 + digit6\n",
        "\n",
        "    if sum_left == sum_right:\n",
        "        print(\"Ура! Это счастливый билет!\")\n",
        "    else:\n",
        "        print(\"К сожалению, это несчастливый билет\")\n",
        "\n",
        "    print(f\"Первые три цифры: {digit1} + {digit2} + {digit3} = {sum_left}\")\n",
        "    print(f\"Последние три цифры: {digit4} + {digit5} + {digit6} = {sum_right}\")"
      ]
    }
  ]
}